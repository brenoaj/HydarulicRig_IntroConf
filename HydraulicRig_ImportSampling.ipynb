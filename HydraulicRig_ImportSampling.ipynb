{
 "metadata": {
  "language_info": {
   "codemirror_mode": {
    "name": "ipython",
    "version": 3
   },
   "file_extension": ".py",
   "mimetype": "text/x-python",
   "name": "python",
   "nbconvert_exporter": "python",
   "pygments_lexer": "ipython3",
   "version": "3.9.1-final"
  },
  "orig_nbformat": 2,
  "kernelspec": {
   "name": "python391jvsc74a57bd03480cd30c1f9289f3d1112bf762fb1d7f8f95f9e2a3560e352d38e68e4c6dd0b",
   "display_name": "Python 3.9.1 64-bit"
  },
  "metadata": {
   "interpreter": {
    "hash": "3480cd30c1f9289f3d1112bf762fb1d7f8f95f9e2a3560e352d38e68e4c6dd0b"
   }
  }
 },
 "nbformat": 4,
 "nbformat_minor": 2,
 "cells": [
  {
   "source": [
    "# Hydraulic Rig\n",
    "\n",
    "## 0 Intro:\n",
    "\n",
    "This notebook works on machine learning to forecast failures in a Test Hydaraulic Rig. Several parameters are experimentally sensored in the circuit do provide data. The test rig consists of a primary hydraulic working and a secondary cooling-filtration circuit conected by the oil tank.\n",
    "\n",
    "<img src=\"HydraulicSystem.png\">\n",
    "\n",
    "There are 17 sensors represented in the image above measuring 2205 tests cycles of 60 seconds in diferent measuring frequencies. The table above shows its details.\n"
   ],
   "cell_type": "markdown",
   "metadata": {}
  },
  {
   "source": [
    "<table style='width:100%'>    \n",
    "      <tr>\n",
    "              <th>Sensor\n",
    "              <th>Variável do processo\n",
    "              <th>Unidade\n",
    "              <th>Amostragem\n",
    "         \n",
    "      <tr>\n",
    "              <th>PS1\n",
    "              <th>Pressão\n",
    "              <th>bar\n",
    "              <th>100 Hz\n",
    "    \n",
    "      <tr>\n",
    "              <th>PS2\n",
    "              <th>Pressão\n",
    "              <th>bar\n",
    "              <th>100 Hz\n",
    "        \n",
    "      <tr>\n",
    "              <th>PS3\n",
    "              <th>Pressão\n",
    "              <th>bar\n",
    "              <th>100 Hz\n",
    "    \n",
    "      <tr>\n",
    "              <th>PS4\n",
    "              <th>Pressão\n",
    "              <th>bar\n",
    "              <th>100 Hz\n",
    "    \n",
    "      <tr>\n",
    "              <th>PS5\n",
    "              <th>Pressão\n",
    "              <th>bar\n",
    "              <th>100 Hz\n",
    "         \n",
    "      <tr>\n",
    "              <th>PS6\n",
    "              <th>Pressão\n",
    "              <th>bar\n",
    "              <th>100 Hz\n",
    "    \n",
    "      <tr>\n",
    "              <th>EPS1\n",
    "              <th>Potência do Motor\n",
    "              <th>W\n",
    "              <th>100 Hz\n",
    "    \n",
    "      <tr>\n",
    "              <th>FS1\n",
    "              <th>Vazão\n",
    "              <th>l/min\n",
    "              <th>10 Hz\n",
    "    \n",
    "      <tr>\n",
    "              <th>FS2\n",
    "              <th>Vazão\n",
    "              <th>l/min\n",
    "              <th>10 Hz\n",
    "    \n",
    "      <tr>\n",
    "              <th>TS1\n",
    "              <th>Temperatura\n",
    "              <th>ºC\n",
    "              <th>1 Hz\n",
    "    \n",
    "      <tr>\n",
    "              <th>TS2\n",
    "              <th>Temperatura\n",
    "              <th>ºC\n",
    "              <th>1 Hz \n",
    "    \n",
    "      <tr>\n",
    "              <th>TS3\n",
    "              <th>Temperatura\n",
    "              <th>ºC\n",
    "              <th>1 Hz\n",
    "          \n",
    "      <tr>\n",
    "              <th>TS4\n",
    "              <th>Temperatura\n",
    "              <th>ºC\n",
    "              <th>1 Hz\n",
    "    \n",
    "      <tr>\n",
    "              <th>VS1\n",
    "              <th>Vibração\n",
    "              <th>mm/s\n",
    "              <th>1 Hz\n",
    "       \n",
    "      <tr>\n",
    "              <th>CE\n",
    "              <th>Eficiência do resfriamento\n",
    "              <th>%\n",
    "              <th>1 Hz\n",
    "       \n",
    "      <tr>\n",
    "              <th>CP\n",
    "              <th>Potência virtual do resfriamento\n",
    "              <th>kW\n",
    "              <th>1 Hz\n",
    "     \n",
    "      <tr>\n",
    "              <th>SE\n",
    "              <th>Fator de Eficiência\n",
    "              <th>%\n",
    "              <th>1 Hz\n"
   ],
   "cell_type": "markdown",
   "metadata": {}
  },
  {
   "source": [
    "**Objectives:** Our main goal is to predict cooler efficiency using other variables to build a model and train it with experiment data.\n",
    "\n",
    "The cooler working condition is given by (%):\n",
    "* 3: close to total failure\n",
    "* 20: reduced effifiency\n",
    "* 100: full efficiency"
   ],
   "cell_type": "markdown",
   "metadata": {}
  },
  {
   "cell_type": "code",
   "execution_count": 63,
   "metadata": {},
   "outputs": [],
   "source": [
    "import numpy as np\n",
    "import pandas as pd\n",
    "import seaborn as sns\n",
    "import matplotlib.pyplot as plt\n",
    "from tqdm import tqdm"
   ]
  },
  {
   "source": [
    "## 1 Data imports and inicial manipulations.\n",
    "\n",
    "Due to the diferent instrumentation used to measure several phisical properties out raw data is not consistant. Is necessay to prepare it to subsequent analisys. The inicial data processing consists in making al the sensors datas the same frequancy. We will do this downsampling each of 17 sensors raw data do 1Hz and upsampling each of those to 100Hz doing linear interpolation."
   ],
   "cell_type": "markdown",
   "metadata": {}
  },
  {
   "source": [
    "### 1.1 Downsampling"
   ],
   "cell_type": "markdown",
   "metadata": {}
  },
  {
   "cell_type": "code",
   "execution_count": 76,
   "metadata": {},
   "outputs": [
    {
     "output_type": "stream",
     "name": "stdout",
     "text": [
      "Carregamento dos conjuntos de dados:\n",
      "100%|██████████| 18/18 [03:39<00:00, 12.19s/it]\n",
      "  0%|          | 0/2205 [00:00<?, ?it/s]Processamento dos dados:\n",
      "100%|██████████| 2205/2205 [00:05<00:00, 383.26it/s]\n"
     ]
    }
   ],
   "source": [
    "file_path = './data/'\n",
    "\n",
    "load_names = os.listdir(file_path)\n",
    "load_names.remove('description.txt')\n",
    "load_names.remove('documentation.txt')\n",
    "\n",
    "\n",
    "# Index das colunas para o downsamplig das variáveis com maior taxa de amostragem\n",
    "cols_100 = np.arange(0, 6000, 100)\n",
    "cols_10 = np.arange(0, 600, 10)\n",
    "\n",
    "# Importação dos dados contidos nos arquivos .txt\n",
    "# Features\n",
    "pressure = []\n",
    "flow = []\n",
    "temp = []\n",
    "\n",
    "print('Carregamento dos conjuntos de dados:')\n",
    "for name in tqdm(load_names):\n",
    "    if 'PS' in name:\n",
    "        aux = pd.read_csv(f'{file_path}{name}', delimiter='\\t', header=None)\n",
    "        ps = pd.DataFrame()\n",
    "        ps[cols_100] = aux.loc[:, cols_100].copy()\n",
    "        pressure.append(ps)\n",
    "    elif 'FS' in name:\n",
    "        aux = pd.read_csv(f'{file_path}{name}', delimiter='\\t', header=None)\n",
    "        fs = pd.DataFrame()\n",
    "        fs[cols_10] = aux.loc[:, cols_10].copy()\n",
    "        flow.append(fs)\n",
    "    elif 'TS' in name:\n",
    "        temp.append(pd.read_csv(f'{file_path}{name}', delimiter='\\t', header=None))\n",
    "\n",
    "aux = pd.read_csv(f'{file_path}EPS1.txt', delimiter='\\t', header=None)\n",
    "eps = pd.DataFrame()\n",
    "eps[cols_100] = aux.loc[:, cols_100].copy()\n",
    "\n",
    "vs = pd.read_csv(f'{file_path}VS1.txt', delimiter='\\t', header=None)\n",
    "ce = pd.read_csv(f'{file_path}CE.txt', delimiter='\\t', header=None)\n",
    "cp = pd.read_csv(f'{file_path}CP.txt', delimiter='\\t', header=None)\n",
    "se = pd.read_csv(f'{file_path}SE.txt', delimiter='\\t', header=None)\n",
    "\n",
    "# Concatenação dos dados\n",
    "data = []\n",
    "print('Processamento dos dados:')\n",
    "for cycle in tqdm(range(2205)):\n",
    "    example = np.c_[\n",
    "        pressure[0].loc[cycle, :].values,\n",
    "        pressure[1].loc[cycle, :].values,\n",
    "        pressure[2].loc[cycle, :].values,\n",
    "        pressure[3].loc[cycle, :].values,\n",
    "        pressure[4].loc[cycle, :].values,\n",
    "        pressure[5].loc[cycle, :].values,\n",
    "        flow[0].loc[cycle, :].values,\n",
    "        flow[1].loc[cycle, :].values,\n",
    "        temp[0].loc[cycle, :].values,\n",
    "        temp[1].loc[cycle, :].values,\n",
    "        temp[2].loc[cycle, :].values,\n",
    "        temp[3].loc[cycle, :].values,\n",
    "        eps.loc[cycle, :].values,\n",
    "        vs.loc[cycle, :].values,\n",
    "        ce.loc[cycle, :].values,\n",
    "        cp.loc[cycle, :].values,\n",
    "        se.loc[cycle, :].values]\n",
    "\n",
    "    data.append(example)\n",
    "\n",
    "downdata=np.array(data)"
   ]
  },
  {
   "source": [
    "The result of downsampling is a 3D array of shape (2205 tests, 60 centésimos de segundo, 17 sensores)"
   ],
   "cell_type": "markdown",
   "metadata": {}
  },
  {
   "cell_type": "code",
   "execution_count": 77,
   "metadata": {},
   "outputs": [
    {
     "output_type": "execute_result",
     "data": {
      "text/plain": [
       "(2205, 60, 17)"
      ]
     },
     "metadata": {},
     "execution_count": 77
    }
   ],
   "source": [
    "np.shape(downdata)"
   ]
  },
  {
   "source": [
    "Transforming 3D data frame in a 2D data frame labelling the experiment cycle and the observed cooler condition in extras columns. The sensor names are also included in column header"
   ],
   "cell_type": "markdown",
   "metadata": {}
  },
  {
   "cell_type": "code",
   "execution_count": 82,
   "metadata": {},
   "outputs": [
    {
     "output_type": "stream",
     "name": "stderr",
     "text": [
      "100%|██████████| 2205/2205 [25:36<00:00,  1.44it/s]\n"
     ]
    }
   ],
   "source": [
    "df1Hz = pd.DataFrame()\n",
    "label_exp = []\n",
    "label = []\n",
    "i = 0\n",
    "for exp in tqdm(downdata):\n",
    "    df1Hz = pd.concat([df1Hz, pd.DataFrame(exp)], axis='index')\n",
    "    label_exp.append((i+1)*np.ones(exp.shape[0]))\n",
    "    label.append(labels[i]*np.ones(exp.shape[0]))\n",
    "    i += 1\n",
    "\n",
    "names = [f'PS{num}' for num in range(1, 7)]\n",
    "names = names + [f'FS{num}' for num in range(1, 3)]\n",
    "names = names + [f'TS{num}' for num in range(1, 5)]\n",
    "names = names + ['EPS1', 'VS1', 'CE', 'CP', 'SE']\n",
    "\n",
    "df1Hz.columns = names\n",
    "\n",
    "label_exp = np.array(label_exp)\n",
    "label_exp = label_exp.reshape((label_exp.shape[0]*label_exp.shape[1]))\n",
    "df1Hz['exp'] = label_exp.astype('int')\n",
    "\n",
    "label = np.array(label)\n",
    "label = label.reshape((label.shape[0]*label.shape[1]))\n",
    "df1Hz['condition'] = label.astype('int')"
   ]
  },
  {
   "source": [
    "### 1.2 Upsampling"
   ],
   "cell_type": "markdown",
   "metadata": {}
  },
  {
   "cell_type": "code",
   "execution_count": 74,
   "metadata": {},
   "outputs": [
    {
     "output_type": "stream",
     "name": "stdout",
     "text": [
      "Carregamento dos conjuntos de dados:\n",
      "100%|██████████| 18/18 [01:54<00:00,  6.37s/it]\n",
      "  0%|          | 0/2205 [00:00<?, ?it/s]Processamento dos dados:\n",
      "100%|██████████| 2205/2205 [00:39<00:00, 55.71it/s] \n"
     ]
    }
   ],
   "source": [
    "cols_1 = np.arange(0, 6000, 100)\n",
    "cols_10 = np.arange(0, 6000, 10)\n",
    "\n",
    "# Importação dos dados contidos nos arquivos \"\".txt\"\n",
    "# Features\n",
    "pressure = []\n",
    "flow = []\n",
    "temp = []\n",
    "\n",
    "print('Carregamento dos conjuntos de dados:')\n",
    "for name in tqdm(load_names):\n",
    "    if 'PS' in name or 'EPS' in name:\n",
    "        ps = pd.read_csv(f'{file_path}{name}', delimiter='\\t', header=None)\n",
    "        pressure.append(ps)\n",
    "    elif 'FS' in name:\n",
    "        aux = pd.read_csv(f'{file_path}{name}', delimiter='\\t', header=None)\n",
    "        fs = pd.DataFrame(data=np.nan*np.ones((aux.shape[0], 6000)))\n",
    "        fs[cols_10] = aux.values\n",
    "        fs = fs.interpolate(axis='columns')\n",
    "        flow.append(fs)\n",
    "    elif 'TS' in name:\n",
    "        aux = pd.read_csv(f'{file_path}{name}', delimiter='\\t', header=None)\n",
    "        t = pd.DataFrame(data=np.nan*np.ones((aux.shape[0], 6000)))\n",
    "        t[cols_1] = aux.values\n",
    "        t = t.interpolate(axis='columns')\n",
    "        temp.append(t)\n",
    "\n",
    "eps = pd.read_csv(f'{file_path}EPS1.txt', delimiter='\\t', header=None)\n",
    "vs = pd.read_csv(f'{file_path}VS1.txt', delimiter='\\t', header=None)\n",
    "ce = pd.read_csv(f'{file_path}CE.txt', delimiter='\\t', header=None)\n",
    "cp = pd.read_csv(f'{file_path}CP.txt', delimiter='\\t', header=None)\n",
    "se = pd.read_csv(f'{file_path}SE.txt', delimiter='\\t', header=None)\n",
    "\n",
    "aux_dfs = [vs, ce, cp, se]\n",
    "mod_dfs = []\n",
    "for df in aux_dfs:\n",
    "    aux = df.copy()\n",
    "    aux_df = pd.DataFrame(data=np.nan*np.ones((aux.shape[0], 6000)))\n",
    "    aux_df[cols_1] = aux.values\n",
    "    aux_df = aux_df.interpolate(axis='columns')\n",
    "    mod_dfs.append(aux_df)\n",
    "\n",
    "# Concatenação dos dados\n",
    "data = []\n",
    "print('Processamento dos dados:')\n",
    "for cycle in tqdm(range(2205)):\n",
    "    example = np.c_[\n",
    "        pressure[0].loc[cycle, :].values,\n",
    "        pressure[1].loc[cycle, :].values,\n",
    "        pressure[2].loc[cycle, :].values,\n",
    "        pressure[3].loc[cycle, :].values,\n",
    "        pressure[4].loc[cycle, :].values,\n",
    "        pressure[5].loc[cycle, :].values,\n",
    "        flow[0].loc[cycle, :].values,\n",
    "        flow[1].loc[cycle, :].values,\n",
    "        temp[0].loc[cycle, :].values,\n",
    "        temp[1].loc[cycle, :].values,\n",
    "        temp[2].loc[cycle, :].values,\n",
    "        temp[3].loc[cycle, :].values,\n",
    "        eps.loc[cycle, :].values,\n",
    "        mod_dfs[0].loc[cycle, :].values,\n",
    "        mod_dfs[1].loc[cycle, :].values,\n",
    "        mod_dfs[2].loc[cycle, :].values,\n",
    "        mod_dfs[3].loc[cycle, :].values]\n",
    "\n",
    "    data.append(example)\n",
    "\n",
    "updata=np.array(data)"
   ]
  },
  {
   "source": [
    "The result of downsampling is a 3D array of shape (2205 tests, 6000 centésimos de segundo, 17 sensores)"
   ],
   "cell_type": "markdown",
   "metadata": {}
  },
  {
   "cell_type": "code",
   "execution_count": 75,
   "metadata": {},
   "outputs": [
    {
     "output_type": "execute_result",
     "data": {
      "text/plain": [
       "(2205, 6000, 17)"
      ]
     },
     "metadata": {},
     "execution_count": 75
    }
   ],
   "source": [
    "np.shape(updata)"
   ]
  },
  {
   "source": [
    "Transforming 3D data frame in a 2D data frame labelling the experiment cycle and the observed cooler condition in extras columns. The sensor names are also included in column header"
   ],
   "cell_type": "markdown",
   "metadata": {}
  },
  {
   "cell_type": "code",
   "execution_count": 80,
   "metadata": {},
   "outputs": [
    {
     "output_type": "stream",
     "name": "stderr",
     "text": [
      "100%|██████████| 2205/2205 [00:14<00:00, 153.66it/s]\n"
     ]
    }
   ],
   "source": [
    "labels = pd.read_csv(f'{file_path}profile.txt', delimiter='\\t', header=None)\n",
    "labels = labels[0].copy()\n",
    "\n",
    "df100Hz = pd.DataFrame()\n",
    "label_exp = []\n",
    "label = []\n",
    "i = 0\n",
    "for exp in tqdm(updata):\n",
    "    df100Hz = pd.concat([df100Hz, pd.DataFrame(exp)], axis='index')\n",
    "    label_exp.append((i+1)*np.ones(exp.shape[0]))\n",
    "    label.append(labels[i]*np.ones(exp.shape[0]))\n",
    "    i += 1\n",
    "\n",
    "names = [f'PS{num}' for num in range(1, 7)]\n",
    "names = names + [f'FS{num}' for num in range(1, 3)]\n",
    "names = names + [f'TS{num}' for num in range(1, 5)]\n",
    "names = names + ['EPS1', 'VS1', 'CE', 'CP', 'SE']\n",
    "\n",
    "df100Hz.columns = names\n",
    "\n",
    "label_exp = np.array(label_exp)\n",
    "label_exp = label_exp.reshape((label_exp.shape[0]*label_exp.shape[1]))\n",
    "df100Hz['exp'] = label_exp.astype('int')\n",
    "\n",
    "label = np.array(label)\n",
    "label = label.reshape((label.shape[0]*label.shape[1]))\n",
    "df100Hz['condition'] = label.astype('int')"
   ]
  },
  {
   "source": [
    "Our imported and sampled data sets pre-view for 100Hz and 1Hz:"
   ],
   "cell_type": "markdown",
   "metadata": {}
  },
  {
   "cell_type": "code",
   "execution_count": 81,
   "metadata": {},
   "outputs": [
    {
     "output_type": "execute_result",
     "data": {
      "text/plain": [
       "       PS1     PS2      PS3    PS4     PS5     PS6    FS1     FS2     TS1  \\\n",
       "0   2411.6  151.47  125.500  2.305   0.000   9.936  8.990  10.179  35.570   \n",
       "1   2936.6  191.46    0.430  0.000   0.000   9.974  0.001  10.176  35.492   \n",
       "2   2656.2  179.09    0.133  0.000   0.000   9.984  0.005  10.163  35.469   \n",
       "3   2949.4  191.43    0.000  0.000   0.000   9.947  0.000  10.167  35.422   \n",
       "4   2945.8  191.36    0.000  0.000   0.000   9.964  0.000  10.167  35.414   \n",
       "..     ...     ...      ...    ...     ...     ...    ...     ...     ...   \n",
       "55  2417.4  151.73  125.740  2.273  10.222  10.000  7.706  10.171  35.441   \n",
       "56  2415.6  151.84  125.500  2.352  10.207   9.962  7.858  10.196  35.437   \n",
       "57  2417.4  151.81  125.780  2.305  10.198   9.965  8.013  10.194  35.434   \n",
       "58  2417.6  151.81  125.790  2.406  10.241  10.014  7.710  10.167  35.434   \n",
       "59  2415.6  151.77  125.550  2.297  10.216   9.974  7.866  10.182  35.426   \n",
       "\n",
       "       TS2     TS3     TS4    EPS1    VS1      CE     CP      SE   exp  \\\n",
       "0   40.961  38.320  30.363  2411.6  0.604  47.202  2.184  68.039     1   \n",
       "1   40.949  38.332  30.375  2936.6  0.605  47.273  2.184   0.000     1   \n",
       "2   40.965  38.320  30.367  2656.2  0.611  47.250  2.184   0.000     1   \n",
       "3   40.922  38.324  30.367  2949.4  0.603  47.332  2.185   0.000     1   \n",
       "4   40.879  38.332  30.379  2945.8  0.608  47.213  2.178   0.000     1   \n",
       "..     ...     ...     ...     ...    ...     ...    ...     ...   ...   \n",
       "55  40.910  38.195  30.395  2417.4  0.516  46.355  2.134  68.167  2205   \n",
       "56  40.895  38.184  30.391  2415.6  0.528  46.432  2.146  68.167  2205   \n",
       "57  40.883  38.184  30.395  2417.4  0.522  46.384  2.144  68.258  2205   \n",
       "58  40.879  38.184  30.402  2417.6  0.522  46.479  2.136  68.258  2205   \n",
       "59  40.891  38.187  30.375  2415.6  0.531  46.621  2.148  68.117  2205   \n",
       "\n",
       "    condition  \n",
       "0           3  \n",
       "1           3  \n",
       "2           3  \n",
       "3           3  \n",
       "4           3  \n",
       "..        ...  \n",
       "55        100  \n",
       "56        100  \n",
       "57        100  \n",
       "58        100  \n",
       "59        100  \n",
       "\n",
       "[132300 rows x 19 columns]"
      ],
      "text/html": "<div>\n<style scoped>\n    .dataframe tbody tr th:only-of-type {\n        vertical-align: middle;\n    }\n\n    .dataframe tbody tr th {\n        vertical-align: top;\n    }\n\n    .dataframe thead th {\n        text-align: right;\n    }\n</style>\n<table border=\"1\" class=\"dataframe\">\n  <thead>\n    <tr style=\"text-align: right;\">\n      <th></th>\n      <th>PS1</th>\n      <th>PS2</th>\n      <th>PS3</th>\n      <th>PS4</th>\n      <th>PS5</th>\n      <th>PS6</th>\n      <th>FS1</th>\n      <th>FS2</th>\n      <th>TS1</th>\n      <th>TS2</th>\n      <th>TS3</th>\n      <th>TS4</th>\n      <th>EPS1</th>\n      <th>VS1</th>\n      <th>CE</th>\n      <th>CP</th>\n      <th>SE</th>\n      <th>exp</th>\n      <th>condition</th>\n    </tr>\n  </thead>\n  <tbody>\n    <tr>\n      <th>0</th>\n      <td>2411.6</td>\n      <td>151.47</td>\n      <td>125.500</td>\n      <td>2.305</td>\n      <td>0.000</td>\n      <td>9.936</td>\n      <td>8.990</td>\n      <td>10.179</td>\n      <td>35.570</td>\n      <td>40.961</td>\n      <td>38.320</td>\n      <td>30.363</td>\n      <td>2411.6</td>\n      <td>0.604</td>\n      <td>47.202</td>\n      <td>2.184</td>\n      <td>68.039</td>\n      <td>1</td>\n      <td>3</td>\n    </tr>\n    <tr>\n      <th>1</th>\n      <td>2936.6</td>\n      <td>191.46</td>\n      <td>0.430</td>\n      <td>0.000</td>\n      <td>0.000</td>\n      <td>9.974</td>\n      <td>0.001</td>\n      <td>10.176</td>\n      <td>35.492</td>\n      <td>40.949</td>\n      <td>38.332</td>\n      <td>30.375</td>\n      <td>2936.6</td>\n      <td>0.605</td>\n      <td>47.273</td>\n      <td>2.184</td>\n      <td>0.000</td>\n      <td>1</td>\n      <td>3</td>\n    </tr>\n    <tr>\n      <th>2</th>\n      <td>2656.2</td>\n      <td>179.09</td>\n      <td>0.133</td>\n      <td>0.000</td>\n      <td>0.000</td>\n      <td>9.984</td>\n      <td>0.005</td>\n      <td>10.163</td>\n      <td>35.469</td>\n      <td>40.965</td>\n      <td>38.320</td>\n      <td>30.367</td>\n      <td>2656.2</td>\n      <td>0.611</td>\n      <td>47.250</td>\n      <td>2.184</td>\n      <td>0.000</td>\n      <td>1</td>\n      <td>3</td>\n    </tr>\n    <tr>\n      <th>3</th>\n      <td>2949.4</td>\n      <td>191.43</td>\n      <td>0.000</td>\n      <td>0.000</td>\n      <td>0.000</td>\n      <td>9.947</td>\n      <td>0.000</td>\n      <td>10.167</td>\n      <td>35.422</td>\n      <td>40.922</td>\n      <td>38.324</td>\n      <td>30.367</td>\n      <td>2949.4</td>\n      <td>0.603</td>\n      <td>47.332</td>\n      <td>2.185</td>\n      <td>0.000</td>\n      <td>1</td>\n      <td>3</td>\n    </tr>\n    <tr>\n      <th>4</th>\n      <td>2945.8</td>\n      <td>191.36</td>\n      <td>0.000</td>\n      <td>0.000</td>\n      <td>0.000</td>\n      <td>9.964</td>\n      <td>0.000</td>\n      <td>10.167</td>\n      <td>35.414</td>\n      <td>40.879</td>\n      <td>38.332</td>\n      <td>30.379</td>\n      <td>2945.8</td>\n      <td>0.608</td>\n      <td>47.213</td>\n      <td>2.178</td>\n      <td>0.000</td>\n      <td>1</td>\n      <td>3</td>\n    </tr>\n    <tr>\n      <th>...</th>\n      <td>...</td>\n      <td>...</td>\n      <td>...</td>\n      <td>...</td>\n      <td>...</td>\n      <td>...</td>\n      <td>...</td>\n      <td>...</td>\n      <td>...</td>\n      <td>...</td>\n      <td>...</td>\n      <td>...</td>\n      <td>...</td>\n      <td>...</td>\n      <td>...</td>\n      <td>...</td>\n      <td>...</td>\n      <td>...</td>\n      <td>...</td>\n    </tr>\n    <tr>\n      <th>55</th>\n      <td>2417.4</td>\n      <td>151.73</td>\n      <td>125.740</td>\n      <td>2.273</td>\n      <td>10.222</td>\n      <td>10.000</td>\n      <td>7.706</td>\n      <td>10.171</td>\n      <td>35.441</td>\n      <td>40.910</td>\n      <td>38.195</td>\n      <td>30.395</td>\n      <td>2417.4</td>\n      <td>0.516</td>\n      <td>46.355</td>\n      <td>2.134</td>\n      <td>68.167</td>\n      <td>2205</td>\n      <td>100</td>\n    </tr>\n    <tr>\n      <th>56</th>\n      <td>2415.6</td>\n      <td>151.84</td>\n      <td>125.500</td>\n      <td>2.352</td>\n      <td>10.207</td>\n      <td>9.962</td>\n      <td>7.858</td>\n      <td>10.196</td>\n      <td>35.437</td>\n      <td>40.895</td>\n      <td>38.184</td>\n      <td>30.391</td>\n      <td>2415.6</td>\n      <td>0.528</td>\n      <td>46.432</td>\n      <td>2.146</td>\n      <td>68.167</td>\n      <td>2205</td>\n      <td>100</td>\n    </tr>\n    <tr>\n      <th>57</th>\n      <td>2417.4</td>\n      <td>151.81</td>\n      <td>125.780</td>\n      <td>2.305</td>\n      <td>10.198</td>\n      <td>9.965</td>\n      <td>8.013</td>\n      <td>10.194</td>\n      <td>35.434</td>\n      <td>40.883</td>\n      <td>38.184</td>\n      <td>30.395</td>\n      <td>2417.4</td>\n      <td>0.522</td>\n      <td>46.384</td>\n      <td>2.144</td>\n      <td>68.258</td>\n      <td>2205</td>\n      <td>100</td>\n    </tr>\n    <tr>\n      <th>58</th>\n      <td>2417.6</td>\n      <td>151.81</td>\n      <td>125.790</td>\n      <td>2.406</td>\n      <td>10.241</td>\n      <td>10.014</td>\n      <td>7.710</td>\n      <td>10.167</td>\n      <td>35.434</td>\n      <td>40.879</td>\n      <td>38.184</td>\n      <td>30.402</td>\n      <td>2417.6</td>\n      <td>0.522</td>\n      <td>46.479</td>\n      <td>2.136</td>\n      <td>68.258</td>\n      <td>2205</td>\n      <td>100</td>\n    </tr>\n    <tr>\n      <th>59</th>\n      <td>2415.6</td>\n      <td>151.77</td>\n      <td>125.550</td>\n      <td>2.297</td>\n      <td>10.216</td>\n      <td>9.974</td>\n      <td>7.866</td>\n      <td>10.182</td>\n      <td>35.426</td>\n      <td>40.891</td>\n      <td>38.187</td>\n      <td>30.375</td>\n      <td>2415.6</td>\n      <td>0.531</td>\n      <td>46.621</td>\n      <td>2.148</td>\n      <td>68.117</td>\n      <td>2205</td>\n      <td>100</td>\n    </tr>\n  </tbody>\n</table>\n<p>132300 rows × 19 columns</p>\n</div>"
     },
     "metadata": {},
     "execution_count": 81
    }
   ],
   "source": [
    "df1Hz"
   ]
  },
  {
   "cell_type": "code",
   "execution_count": 85,
   "metadata": {},
   "outputs": [
    {
     "output_type": "execute_result",
     "data": {
      "text/plain": [
       "         PS1     PS2     PS3    PS4     PS5     PS6    FS1      FS2       TS1  \\\n",
       "0     2411.6  151.47  125.50  2.305   0.000   9.936  8.990  10.1790  35.57000   \n",
       "1     2411.6  151.45  125.39  2.305   0.000   9.947  8.168  10.1785  35.56922   \n",
       "2     2411.6  151.52  125.40  2.336   0.000   9.964  7.346  10.1780  35.56844   \n",
       "3     2411.6  151.27  125.03  2.578   0.000   9.989  6.524  10.1775  35.56766   \n",
       "4     2411.6  150.80  124.05  2.977   0.000   9.996  5.702  10.1770  35.56688   \n",
       "...      ...     ...     ...    ...     ...     ...    ...      ...       ...   \n",
       "5995  2416.2  151.64  125.73  2.305  10.204   9.989  7.774  10.1760  35.42600   \n",
       "5996  2416.6  151.70  125.81  2.320  10.238  10.007  7.774  10.1760  35.42600   \n",
       "5997  2416.8  151.73  125.77  2.273  10.223  10.007  7.774  10.1760  35.42600   \n",
       "5998  2417.0  151.71  125.66  2.227  10.218   9.988  7.774  10.1760  35.42600   \n",
       "5999  2417.0  151.70  125.77  2.250  10.212   9.964  7.774  10.1760  35.42600   \n",
       "\n",
       "           TS2       TS3       TS4    EPS1      VS1        CE     CP  \\\n",
       "0     40.96100  38.32000  30.36300  2411.6  0.60400  47.20200  2.184   \n",
       "1     40.96088  38.32012  30.36312  2411.6  0.60401  47.20271  2.184   \n",
       "2     40.96076  38.32024  30.36324  2411.6  0.60402  47.20342  2.184   \n",
       "3     40.96064  38.32036  30.36336  2411.6  0.60403  47.20413  2.184   \n",
       "4     40.96052  38.32048  30.36348  2411.6  0.60404  47.20484  2.184   \n",
       "...        ...       ...       ...     ...      ...       ...    ...   \n",
       "5995  40.89100  38.18700  30.37500  2416.2  0.53100  46.62100  2.148   \n",
       "5996  40.89100  38.18700  30.37500  2416.6  0.53100  46.62100  2.148   \n",
       "5997  40.89100  38.18700  30.37500  2416.8  0.53100  46.62100  2.148   \n",
       "5998  40.89100  38.18700  30.37500  2417.0  0.53100  46.62100  2.148   \n",
       "5999  40.89100  38.18700  30.37500  2417.0  0.53100  46.62100  2.148   \n",
       "\n",
       "            SE   exp  condition  \n",
       "0     68.03900     1          3  \n",
       "1     67.35861     1          3  \n",
       "2     66.67822     1          3  \n",
       "3     65.99783     1          3  \n",
       "4     65.31744     1          3  \n",
       "...        ...   ...        ...  \n",
       "5995  68.11700  2205        100  \n",
       "5996  68.11700  2205        100  \n",
       "5997  68.11700  2205        100  \n",
       "5998  68.11700  2205        100  \n",
       "5999  68.11700  2205        100  \n",
       "\n",
       "[13230000 rows x 19 columns]"
      ],
      "text/html": "<div>\n<style scoped>\n    .dataframe tbody tr th:only-of-type {\n        vertical-align: middle;\n    }\n\n    .dataframe tbody tr th {\n        vertical-align: top;\n    }\n\n    .dataframe thead th {\n        text-align: right;\n    }\n</style>\n<table border=\"1\" class=\"dataframe\">\n  <thead>\n    <tr style=\"text-align: right;\">\n      <th></th>\n      <th>PS1</th>\n      <th>PS2</th>\n      <th>PS3</th>\n      <th>PS4</th>\n      <th>PS5</th>\n      <th>PS6</th>\n      <th>FS1</th>\n      <th>FS2</th>\n      <th>TS1</th>\n      <th>TS2</th>\n      <th>TS3</th>\n      <th>TS4</th>\n      <th>EPS1</th>\n      <th>VS1</th>\n      <th>CE</th>\n      <th>CP</th>\n      <th>SE</th>\n      <th>exp</th>\n      <th>condition</th>\n    </tr>\n  </thead>\n  <tbody>\n    <tr>\n      <th>0</th>\n      <td>2411.6</td>\n      <td>151.47</td>\n      <td>125.50</td>\n      <td>2.305</td>\n      <td>0.000</td>\n      <td>9.936</td>\n      <td>8.990</td>\n      <td>10.1790</td>\n      <td>35.57000</td>\n      <td>40.96100</td>\n      <td>38.32000</td>\n      <td>30.36300</td>\n      <td>2411.6</td>\n      <td>0.60400</td>\n      <td>47.20200</td>\n      <td>2.184</td>\n      <td>68.03900</td>\n      <td>1</td>\n      <td>3</td>\n    </tr>\n    <tr>\n      <th>1</th>\n      <td>2411.6</td>\n      <td>151.45</td>\n      <td>125.39</td>\n      <td>2.305</td>\n      <td>0.000</td>\n      <td>9.947</td>\n      <td>8.168</td>\n      <td>10.1785</td>\n      <td>35.56922</td>\n      <td>40.96088</td>\n      <td>38.32012</td>\n      <td>30.36312</td>\n      <td>2411.6</td>\n      <td>0.60401</td>\n      <td>47.20271</td>\n      <td>2.184</td>\n      <td>67.35861</td>\n      <td>1</td>\n      <td>3</td>\n    </tr>\n    <tr>\n      <th>2</th>\n      <td>2411.6</td>\n      <td>151.52</td>\n      <td>125.40</td>\n      <td>2.336</td>\n      <td>0.000</td>\n      <td>9.964</td>\n      <td>7.346</td>\n      <td>10.1780</td>\n      <td>35.56844</td>\n      <td>40.96076</td>\n      <td>38.32024</td>\n      <td>30.36324</td>\n      <td>2411.6</td>\n      <td>0.60402</td>\n      <td>47.20342</td>\n      <td>2.184</td>\n      <td>66.67822</td>\n      <td>1</td>\n      <td>3</td>\n    </tr>\n    <tr>\n      <th>3</th>\n      <td>2411.6</td>\n      <td>151.27</td>\n      <td>125.03</td>\n      <td>2.578</td>\n      <td>0.000</td>\n      <td>9.989</td>\n      <td>6.524</td>\n      <td>10.1775</td>\n      <td>35.56766</td>\n      <td>40.96064</td>\n      <td>38.32036</td>\n      <td>30.36336</td>\n      <td>2411.6</td>\n      <td>0.60403</td>\n      <td>47.20413</td>\n      <td>2.184</td>\n      <td>65.99783</td>\n      <td>1</td>\n      <td>3</td>\n    </tr>\n    <tr>\n      <th>4</th>\n      <td>2411.6</td>\n      <td>150.80</td>\n      <td>124.05</td>\n      <td>2.977</td>\n      <td>0.000</td>\n      <td>9.996</td>\n      <td>5.702</td>\n      <td>10.1770</td>\n      <td>35.56688</td>\n      <td>40.96052</td>\n      <td>38.32048</td>\n      <td>30.36348</td>\n      <td>2411.6</td>\n      <td>0.60404</td>\n      <td>47.20484</td>\n      <td>2.184</td>\n      <td>65.31744</td>\n      <td>1</td>\n      <td>3</td>\n    </tr>\n    <tr>\n      <th>...</th>\n      <td>...</td>\n      <td>...</td>\n      <td>...</td>\n      <td>...</td>\n      <td>...</td>\n      <td>...</td>\n      <td>...</td>\n      <td>...</td>\n      <td>...</td>\n      <td>...</td>\n      <td>...</td>\n      <td>...</td>\n      <td>...</td>\n      <td>...</td>\n      <td>...</td>\n      <td>...</td>\n      <td>...</td>\n      <td>...</td>\n      <td>...</td>\n    </tr>\n    <tr>\n      <th>5995</th>\n      <td>2416.2</td>\n      <td>151.64</td>\n      <td>125.73</td>\n      <td>2.305</td>\n      <td>10.204</td>\n      <td>9.989</td>\n      <td>7.774</td>\n      <td>10.1760</td>\n      <td>35.42600</td>\n      <td>40.89100</td>\n      <td>38.18700</td>\n      <td>30.37500</td>\n      <td>2416.2</td>\n      <td>0.53100</td>\n      <td>46.62100</td>\n      <td>2.148</td>\n      <td>68.11700</td>\n      <td>2205</td>\n      <td>100</td>\n    </tr>\n    <tr>\n      <th>5996</th>\n      <td>2416.6</td>\n      <td>151.70</td>\n      <td>125.81</td>\n      <td>2.320</td>\n      <td>10.238</td>\n      <td>10.007</td>\n      <td>7.774</td>\n      <td>10.1760</td>\n      <td>35.42600</td>\n      <td>40.89100</td>\n      <td>38.18700</td>\n      <td>30.37500</td>\n      <td>2416.6</td>\n      <td>0.53100</td>\n      <td>46.62100</td>\n      <td>2.148</td>\n      <td>68.11700</td>\n      <td>2205</td>\n      <td>100</td>\n    </tr>\n    <tr>\n      <th>5997</th>\n      <td>2416.8</td>\n      <td>151.73</td>\n      <td>125.77</td>\n      <td>2.273</td>\n      <td>10.223</td>\n      <td>10.007</td>\n      <td>7.774</td>\n      <td>10.1760</td>\n      <td>35.42600</td>\n      <td>40.89100</td>\n      <td>38.18700</td>\n      <td>30.37500</td>\n      <td>2416.8</td>\n      <td>0.53100</td>\n      <td>46.62100</td>\n      <td>2.148</td>\n      <td>68.11700</td>\n      <td>2205</td>\n      <td>100</td>\n    </tr>\n    <tr>\n      <th>5998</th>\n      <td>2417.0</td>\n      <td>151.71</td>\n      <td>125.66</td>\n      <td>2.227</td>\n      <td>10.218</td>\n      <td>9.988</td>\n      <td>7.774</td>\n      <td>10.1760</td>\n      <td>35.42600</td>\n      <td>40.89100</td>\n      <td>38.18700</td>\n      <td>30.37500</td>\n      <td>2417.0</td>\n      <td>0.53100</td>\n      <td>46.62100</td>\n      <td>2.148</td>\n      <td>68.11700</td>\n      <td>2205</td>\n      <td>100</td>\n    </tr>\n    <tr>\n      <th>5999</th>\n      <td>2417.0</td>\n      <td>151.70</td>\n      <td>125.77</td>\n      <td>2.250</td>\n      <td>10.212</td>\n      <td>9.964</td>\n      <td>7.774</td>\n      <td>10.1760</td>\n      <td>35.42600</td>\n      <td>40.89100</td>\n      <td>38.18700</td>\n      <td>30.37500</td>\n      <td>2417.0</td>\n      <td>0.53100</td>\n      <td>46.62100</td>\n      <td>2.148</td>\n      <td>68.11700</td>\n      <td>2205</td>\n      <td>100</td>\n    </tr>\n  </tbody>\n</table>\n<p>13230000 rows × 19 columns</p>\n</div>"
     },
     "metadata": {},
     "execution_count": 85
    }
   ],
   "source": [
    "df100Hz"
   ]
  },
  {
   "source": [
    "Importing the massive data set to a .sav content. I can import this file directly for further work steps without processing it all over again."
   ],
   "cell_type": "markdown",
   "metadata": {}
  },
  {
   "cell_type": "code",
   "execution_count": 113,
   "metadata": {},
   "outputs": [],
   "source": [
    "import pickle\n",
    "file_path = './data'\n",
    "pickle.dump(df100Hz, open('./df100Hz.sav', 'wb'))\n",
    "pickle.dump(df1Hz, open('./df1Hz.sav', 'wb'))"
   ]
  }
 ]
}